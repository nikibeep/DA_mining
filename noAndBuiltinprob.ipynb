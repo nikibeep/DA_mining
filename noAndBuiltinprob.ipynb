{
 "cells": [
  {
   "cell_type": "code",
   "execution_count": 2,
   "metadata": {},
   "outputs": [
    {
     "name": "stdout",
     "output_type": "stream",
     "text": [
      "[83 85 53 66 18 72 29 41 26 91 13 64 81 57 77 70 31 75  3 79  9 44 30 55\n",
      " 97 24 90 33 21 88 33  0 88 57 77 15 81 10 64 97 18 13 61 61 44 84  8 88\n",
      " 82 55]\n"
     ]
    }
   ],
   "source": [
    "import numpy as np\n",
    "\n",
    "data = np.random.randint(0, 100, size=50)\n",
    "print(data)"
   ]
  },
  {
   "cell_type": "code",
   "execution_count": 3,
   "metadata": {},
   "outputs": [
    {
     "name": "stdout",
     "output_type": "stream",
     "text": [
      "[[0.8556701 ]\n",
      " [0.87628866]\n",
      " [0.54639175]\n",
      " [0.68041237]\n",
      " [0.18556701]\n",
      " [0.74226804]\n",
      " [0.29896907]\n",
      " [0.42268041]\n",
      " [0.26804124]\n",
      " [0.93814433]\n",
      " [0.13402062]\n",
      " [0.65979381]\n",
      " [0.83505155]\n",
      " [0.58762887]\n",
      " [0.79381443]\n",
      " [0.72164948]\n",
      " [0.31958763]\n",
      " [0.77319588]\n",
      " [0.03092784]\n",
      " [0.81443299]\n",
      " [0.09278351]\n",
      " [0.45360825]\n",
      " [0.30927835]\n",
      " [0.56701031]\n",
      " [1.        ]\n",
      " [0.24742268]\n",
      " [0.92783505]\n",
      " [0.34020619]\n",
      " [0.21649485]\n",
      " [0.90721649]\n",
      " [0.34020619]\n",
      " [0.        ]\n",
      " [0.90721649]\n",
      " [0.58762887]\n",
      " [0.79381443]\n",
      " [0.15463918]\n",
      " [0.83505155]\n",
      " [0.10309278]\n",
      " [0.65979381]\n",
      " [1.        ]\n",
      " [0.18556701]\n",
      " [0.13402062]\n",
      " [0.62886598]\n",
      " [0.62886598]\n",
      " [0.45360825]\n",
      " [0.86597938]\n",
      " [0.08247423]\n",
      " [0.90721649]\n",
      " [0.84536082]\n",
      " [0.56701031]]\n"
     ]
    }
   ],
   "source": [
    "#with built in function\n",
    "from sklearn.preprocessing import MinMaxScaler\n",
    "\n",
    "# Reshape the data as a 2D array for sklearn functions\n",
    "data = data.reshape(-1, 1)\n",
    "\n",
    "# Create a scaler object\n",
    "scaler = MinMaxScaler()\n",
    "\n",
    "# Fit and transform the data using the scaler\n",
    "normalized_data = scaler.fit_transform(data)\n",
    "\n",
    "print(normalized_data)\n"
   ]
  },
  {
   "cell_type": "code",
   "execution_count": 4,
   "metadata": {},
   "outputs": [
    {
     "name": "stdout",
     "output_type": "stream",
     "text": [
      "[array([0.8556701]), array([0.87628866]), array([0.54639175]), array([0.68041237]), array([0.18556701]), array([0.74226804]), array([0.29896907]), array([0.42268041]), array([0.26804124]), array([0.93814433]), array([0.13402062]), array([0.65979381]), array([0.83505155]), array([0.58762887]), array([0.79381443]), array([0.72164948]), array([0.31958763]), array([0.77319588]), array([0.03092784]), array([0.81443299]), array([0.09278351]), array([0.45360825]), array([0.30927835]), array([0.56701031]), array([1.]), array([0.24742268]), array([0.92783505]), array([0.34020619]), array([0.21649485]), array([0.90721649]), array([0.34020619]), array([0.]), array([0.90721649]), array([0.58762887]), array([0.79381443]), array([0.15463918]), array([0.83505155]), array([0.10309278]), array([0.65979381]), array([1.]), array([0.18556701]), array([0.13402062]), array([0.62886598]), array([0.62886598]), array([0.45360825]), array([0.86597938]), array([0.08247423]), array([0.90721649]), array([0.84536082]), array([0.56701031])]\n"
     ]
    }
   ],
   "source": [
    "# Define a function to normalize the data without built-in functions\n",
    "def normalize_data(data):\n",
    "    max_value = max(data)\n",
    "    min_value = min(data)\n",
    "    normalized_data = [(x - min_value) / (max_value - min_value) for x in data]\n",
    "    return normalized_data\n",
    "\n",
    "# Normalize the data\n",
    "normalized_data = normalize_data(data)\n",
    "\n",
    "print(normalized_data)\n"
   ]
  }
 ],
 "metadata": {
  "kernelspec": {
   "display_name": "Python 3",
   "language": "python",
   "name": "python3"
  },
  "language_info": {
   "codemirror_mode": {
    "name": "ipython",
    "version": 3
   },
   "file_extension": ".py",
   "mimetype": "text/x-python",
   "name": "python",
   "nbconvert_exporter": "python",
   "pygments_lexer": "ipython3",
   "version": "3.10.10"
  },
  "orig_nbformat": 4,
  "vscode": {
   "interpreter": {
    "hash": "47f3f72424daa5524080de032b7d53e6de63610297dddcfeb4e85e03f001eff9"
   }
  }
 },
 "nbformat": 4,
 "nbformat_minor": 2
}
