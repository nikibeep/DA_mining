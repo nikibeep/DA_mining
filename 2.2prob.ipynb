{
 "cells": [
  {
   "cell_type": "code",
   "execution_count": 1,
   "metadata": {},
   "outputs": [],
   "source": [
    "import numpy as np\n",
    "import matplotlib.pyplot as plt"
   ]
  },
  {
   "cell_type": "code",
   "execution_count": 2,
   "metadata": {},
   "outputs": [],
   "source": [
    "data = np.array([13, 15, 16, 16, 19, 20, 20, 21, 22, 22, 25, 25, 25, 25, 30, 33, 33, 35, 35, 35, 35, 36, 40, 45, 46, 52, 70])"
   ]
  },
  {
   "cell_type": "code",
   "execution_count": 3,
   "metadata": {},
   "outputs": [
    {
     "name": "stdout",
     "output_type": "stream",
     "text": [
      "Mean: 29.962962962962962\n"
     ]
    }
   ],
   "source": [
    "# Calculate the mean\n",
    "mean = np.mean(data)\n",
    "print(\"Mean:\", mean)\n"
   ]
  },
  {
   "cell_type": "code",
   "execution_count": 4,
   "metadata": {},
   "outputs": [
    {
     "name": "stdout",
     "output_type": "stream",
     "text": [
      "Median: 25.0\n"
     ]
    }
   ],
   "source": [
    "# Calculate the median\n",
    "median = np.median(data)\n",
    "print(\"Median:\", median)"
   ]
  },
  {
   "cell_type": "code",
   "execution_count": 7,
   "metadata": {},
   "outputs": [
    {
     "name": "stdout",
     "output_type": "stream",
     "text": [
      "Mode: 25\n"
     ]
    }
   ],
   "source": [
    "# Calculate the mode\n",
    "def mode(array):\n",
    "    values, counts = np.unique(array, return_counts=True)\n",
    "    index = np.argmax(counts)\n",
    "    return values[index]\n",
    "mode = mode(data)\n",
    "print(\"Mode:\", mode)"
   ]
  },
  {
   "cell_type": "code",
   "execution_count": 8,
   "metadata": {},
   "outputs": [
    {
     "name": "stdout",
     "output_type": "stream",
     "text": [
      "Midrange: 41.5\n"
     ]
    }
   ],
   "source": [
    "# Calculate the midrange\n",
    "midrange = (np.min(data) + np.max(data)) / 2\n",
    "print(\"Midrange:\", midrange)"
   ]
  },
  {
   "cell_type": "code",
   "execution_count": 9,
   "metadata": {},
   "outputs": [
    {
     "name": "stdout",
     "output_type": "stream",
     "text": [
      "Q1: 20.0\n",
      "Q3: 35.0\n"
     ]
    }
   ],
   "source": [
    "# Calculate the quartiles\n",
    "q1 = np.median(data[:len(data)//2])\n",
    "q3 = np.median(data[len(data)//2:])\n",
    "print(\"Q1:\", q1)\n",
    "print(\"Q3:\", q3)"
   ]
  },
  {
   "cell_type": "code",
   "execution_count": 10,
   "metadata": {},
   "outputs": [
    {
     "name": "stdout",
     "output_type": "stream",
     "text": [
      "Minimum: 13\n",
      "Q1: 20.0\n",
      "Median: 25.0\n",
      "Q3: 35.0\n",
      "Maximum: 70\n"
     ]
    }
   ],
   "source": [
    "\n",
    "# Calculate the five-number summary\n",
    "minimum = np.min(data)\n",
    "maximum = np.max(data)\n",
    "print(\"Minimum:\", minimum)\n",
    "print(\"Q1:\", q1)\n",
    "print(\"Median:\", median)\n",
    "print(\"Q3:\", q3)\n",
    "print(\"Maximum:\", maximum)"
   ]
  },
  {
   "cell_type": "code",
   "execution_count": 11,
   "metadata": {},
   "outputs": [
    {
     "data": {
      "image/png": "[encoded data removed]",
      "text/plain": [
       "<Figure size 640x480 with 1 Axes>"
      ]
     },
     "metadata": {},
     "output_type": "display_data"
    }
   ],
   "source": [
    "# Create a boxplot\n",
    "plt.boxplot(data)\n",
    "plt.show()"
   ]
  }
 ],
 "metadata": {
  "kernelspec": {
   "display_name": "Python 3",
   "language": "python",
   "name": "python3"
  },
  "language_info": {
   "codemirror_mode": {
    "name": "ipython",
    "version": 3
   },
   "file_extension": ".py",
   "mimetype": "text/x-python",
   "name": "python",
   "nbconvert_exporter": "python",
   "pygments_lexer": "ipython3",
   "version": "3.10.10"
  },
  "orig_nbformat": 4,
  "vscode": {
   "interpreter": {
    "hash": "47f3f72424daa5524080de032b7d53e6de63610297dddcfeb4e85e03f001eff9"
   }
  }
 },
 "nbformat": 4,
 "nbformat_minor": 2
}
