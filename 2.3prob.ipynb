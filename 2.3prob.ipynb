{
 "cells": [
  {
   "cell_type": "code",
   "execution_count": 1,
   "metadata": {},
   "outputs": [
    {
     "name": "stdout",
     "output_type": "stream",
     "text": [
      "Approximate median value: 33.50866666666667\n"
     ]
    }
   ],
   "source": [
    "intervals = [(1, 5), (6, 15), (16, 20), (21, 50), (51, 80), (81, 110)]\n",
    "frequencies = [200, 450, 300, 1500, 700, 44]\n",
    "\n",
    "# Find the cumulative frequencies\n",
    "cumulative_frequencies = [frequencies[0]]\n",
    "for i in range(1, len(frequencies)):\n",
    "    cumulative_frequencies.append(cumulative_frequencies[i-1] + frequencies[i])\n",
    "\n",
    "# Find the total number of data points\n",
    "n = cumulative_frequencies[-1]\n",
    "\n",
    "# Find the interval containing the median\n",
    "median_index = n // 2\n",
    "for i in range(len(cumulative_frequencies)):\n",
    "    if cumulative_frequencies[i] >= median_index:\n",
    "        median_interval = intervals[i]\n",
    "        break\n",
    "\n",
    "# Find the median value using the formula\n",
    "L = median_interval[0]\n",
    "w = median_interval[1] - median_interval[0]\n",
    "F = 0 if i == 0 else cumulative_frequencies[i-1]\n",
    "median = L + ((median_index - F) / frequencies[i]) * w\n",
    "\n",
    "print(\"Approximate median value:\", median)\n"
   ]
  }
 ],
 "metadata": {
  "kernelspec": {
   "display_name": "Python 3",
   "language": "python",
   "name": "python3"
  },
  "language_info": {
   "codemirror_mode": {
    "name": "ipython",
    "version": 3
   },
   "file_extension": ".py",
   "mimetype": "text/x-python",
   "name": "python",
   "nbconvert_exporter": "python",
   "pygments_lexer": "ipython3",
   "version": "3.10.10"
  },
  "orig_nbformat": 4,
  "vscode": {
   "interpreter": {
    "hash": "47f3f72424daa5524080de032b7d53e6de63610297dddcfeb4e85e03f001eff9"
   }
  }
 },
 "nbformat": 4,
 "nbformat_minor": 2
}
